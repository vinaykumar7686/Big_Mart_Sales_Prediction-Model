{
 "cells": [
  {
   "cell_type": "code",
   "execution_count": 1,
   "metadata": {},
   "outputs": [],
   "source": [
    "# Importing essesntial Libraries\n",
    "import pandas as pd\n",
    "import numpy as np"
   ]
  },
  {
   "cell_type": "code",
   "execution_count": 2,
   "metadata": {},
   "outputs": [
    {
     "output_type": "execute_result",
     "data": {
      "text/plain": "   Item_Weight  Item_Visibility  Item_MRP  Outlet_Establishment_Year  \\\n0         9.30         0.016047  249.8092                       1999   \n1         5.92         0.019278   48.2692                       2009   \n2        17.50         0.016760  141.6180                       1999   \n3        19.20         0.000000  182.0950                       1998   \n4         8.93         0.000000   53.8614                       1987   \n\n   Item_Outlet_Sales  Item_Fat_Content_LF  Item_Fat_Content_Low Fat  \\\n0          3735.1380                    0                         1   \n1           443.4228                    0                         0   \n2          2097.2700                    0                         1   \n3           732.3800                    0                         0   \n4           994.7052                    0                         1   \n\n   Item_Fat_Content_Regular  Item_Fat_Content_low fat  Item_Fat_Content_reg  \\\n0                         0                         0                     0   \n1                         1                         0                     0   \n2                         0                         0                     0   \n3                         1                         0                     0   \n4                         0                         0                     0   \n\n   ...  Outlet_Size_High  Outlet_Size_Medium  Outlet_Size_Small  \\\n0  ...                 0                   1                  0   \n1  ...                 0                   1                  0   \n2  ...                 0                   1                  0   \n3  ...                 0                   0                  0   \n4  ...                 1                   0                  0   \n\n   Outlet_Location_Type_Tier 1  Outlet_Location_Type_Tier 2  \\\n0                            1                            0   \n1                            0                            0   \n2                            1                            0   \n3                            0                            0   \n4                            0                            0   \n\n   Outlet_Location_Type_Tier 3  Outlet_Type_Grocery Store  \\\n0                            0                          0   \n1                            1                          0   \n2                            0                          0   \n3                            1                          1   \n4                            1                          0   \n\n   Outlet_Type_Supermarket Type1  Outlet_Type_Supermarket Type2  \\\n0                              1                              0   \n1                              0                              1   \n2                              1                              0   \n3                              0                              0   \n4                              1                              0   \n\n   Outlet_Type_Supermarket Type3  \n0                              0  \n1                              0  \n2                              0  \n3                              0  \n4                              0  \n\n[5 rows x 46 columns]",
      "text/html": "<div>\n<style scoped>\n    .dataframe tbody tr th:only-of-type {\n        vertical-align: middle;\n    }\n\n    .dataframe tbody tr th {\n        vertical-align: top;\n    }\n\n    .dataframe thead th {\n        text-align: right;\n    }\n</style>\n<table border=\"1\" class=\"dataframe\">\n  <thead>\n    <tr style=\"text-align: right;\">\n      <th></th>\n      <th>Item_Weight</th>\n      <th>Item_Visibility</th>\n      <th>Item_MRP</th>\n      <th>Outlet_Establishment_Year</th>\n      <th>Item_Outlet_Sales</th>\n      <th>Item_Fat_Content_LF</th>\n      <th>Item_Fat_Content_Low Fat</th>\n      <th>Item_Fat_Content_Regular</th>\n      <th>Item_Fat_Content_low fat</th>\n      <th>Item_Fat_Content_reg</th>\n      <th>...</th>\n      <th>Outlet_Size_High</th>\n      <th>Outlet_Size_Medium</th>\n      <th>Outlet_Size_Small</th>\n      <th>Outlet_Location_Type_Tier 1</th>\n      <th>Outlet_Location_Type_Tier 2</th>\n      <th>Outlet_Location_Type_Tier 3</th>\n      <th>Outlet_Type_Grocery Store</th>\n      <th>Outlet_Type_Supermarket Type1</th>\n      <th>Outlet_Type_Supermarket Type2</th>\n      <th>Outlet_Type_Supermarket Type3</th>\n    </tr>\n  </thead>\n  <tbody>\n    <tr>\n      <th>0</th>\n      <td>9.30</td>\n      <td>0.016047</td>\n      <td>249.8092</td>\n      <td>1999</td>\n      <td>3735.1380</td>\n      <td>0</td>\n      <td>1</td>\n      <td>0</td>\n      <td>0</td>\n      <td>0</td>\n      <td>...</td>\n      <td>0</td>\n      <td>1</td>\n      <td>0</td>\n      <td>1</td>\n      <td>0</td>\n      <td>0</td>\n      <td>0</td>\n      <td>1</td>\n      <td>0</td>\n      <td>0</td>\n    </tr>\n    <tr>\n      <th>1</th>\n      <td>5.92</td>\n      <td>0.019278</td>\n      <td>48.2692</td>\n      <td>2009</td>\n      <td>443.4228</td>\n      <td>0</td>\n      <td>0</td>\n      <td>1</td>\n      <td>0</td>\n      <td>0</td>\n      <td>...</td>\n      <td>0</td>\n      <td>1</td>\n      <td>0</td>\n      <td>0</td>\n      <td>0</td>\n      <td>1</td>\n      <td>0</td>\n      <td>0</td>\n      <td>1</td>\n      <td>0</td>\n    </tr>\n    <tr>\n      <th>2</th>\n      <td>17.50</td>\n      <td>0.016760</td>\n      <td>141.6180</td>\n      <td>1999</td>\n      <td>2097.2700</td>\n      <td>0</td>\n      <td>1</td>\n      <td>0</td>\n      <td>0</td>\n      <td>0</td>\n      <td>...</td>\n      <td>0</td>\n      <td>1</td>\n      <td>0</td>\n      <td>1</td>\n      <td>0</td>\n      <td>0</td>\n      <td>0</td>\n      <td>1</td>\n      <td>0</td>\n      <td>0</td>\n    </tr>\n    <tr>\n      <th>3</th>\n      <td>19.20</td>\n      <td>0.000000</td>\n      <td>182.0950</td>\n      <td>1998</td>\n      <td>732.3800</td>\n      <td>0</td>\n      <td>0</td>\n      <td>1</td>\n      <td>0</td>\n      <td>0</td>\n      <td>...</td>\n      <td>0</td>\n      <td>0</td>\n      <td>0</td>\n      <td>0</td>\n      <td>0</td>\n      <td>1</td>\n      <td>1</td>\n      <td>0</td>\n      <td>0</td>\n      <td>0</td>\n    </tr>\n    <tr>\n      <th>4</th>\n      <td>8.93</td>\n      <td>0.000000</td>\n      <td>53.8614</td>\n      <td>1987</td>\n      <td>994.7052</td>\n      <td>0</td>\n      <td>1</td>\n      <td>0</td>\n      <td>0</td>\n      <td>0</td>\n      <td>...</td>\n      <td>1</td>\n      <td>0</td>\n      <td>0</td>\n      <td>0</td>\n      <td>0</td>\n      <td>1</td>\n      <td>0</td>\n      <td>1</td>\n      <td>0</td>\n      <td>0</td>\n    </tr>\n  </tbody>\n</table>\n<p>5 rows × 46 columns</p>\n</div>"
     },
     "metadata": {},
     "execution_count": 2
    }
   ],
   "source": [
    "data = pd.read_csv('train_cleaned.csv')\n",
    "data.head()"
   ]
  },
  {
   "cell_type": "code",
   "execution_count": 3,
   "metadata": {},
   "outputs": [
    {
     "output_type": "execute_result",
     "data": {
      "text/plain": "(8523, 46)"
     },
     "metadata": {},
     "execution_count": 3
    }
   ],
   "source": [
    "data.shape"
   ]
  },
  {
   "cell_type": "code",
   "execution_count": 4,
   "metadata": {},
   "outputs": [
    {
     "output_type": "execute_result",
     "data": {
      "text/plain": "Item_Weight                        0\nItem_Visibility                    0\nItem_MRP                           0\nOutlet_Establishment_Year          0\nItem_Outlet_Sales                  0\nItem_Fat_Content_LF                0\nItem_Fat_Content_Low Fat           0\nItem_Fat_Content_Regular           0\nItem_Fat_Content_low fat           0\nItem_Fat_Content_reg               0\nItem_Type_Baking Goods             0\nItem_Type_Breads                   0\nItem_Type_Breakfast                0\nItem_Type_Canned                   0\nItem_Type_Dairy                    0\nItem_Type_Frozen Foods             0\nItem_Type_Fruits and Vegetables    0\nItem_Type_Hard Drinks              0\nItem_Type_Health and Hygiene       0\nItem_Type_Household                0\nItem_Type_Meat                     0\nItem_Type_Others                   0\nItem_Type_Seafood                  0\nItem_Type_Snack Foods              0\nItem_Type_Soft Drinks              0\nItem_Type_Starchy Foods            0\nOutlet_Identifier_OUT010           0\nOutlet_Identifier_OUT013           0\nOutlet_Identifier_OUT017           0\nOutlet_Identifier_OUT018           0\nOutlet_Identifier_OUT019           0\nOutlet_Identifier_OUT027           0\nOutlet_Identifier_OUT035           0\nOutlet_Identifier_OUT045           0\nOutlet_Identifier_OUT046           0\nOutlet_Identifier_OUT049           0\nOutlet_Size_High                   0\nOutlet_Size_Medium                 0\nOutlet_Size_Small                  0\nOutlet_Location_Type_Tier 1        0\nOutlet_Location_Type_Tier 2        0\nOutlet_Location_Type_Tier 3        0\nOutlet_Type_Grocery Store          0\nOutlet_Type_Supermarket Type1      0\nOutlet_Type_Supermarket Type2      0\nOutlet_Type_Supermarket Type3      0\ndtype: int64"
     },
     "metadata": {},
     "execution_count": 4
    }
   ],
   "source": [
    "data.isnull().sum()"
   ]
  },
  {
   "cell_type": "markdown",
   "metadata": {},
   "source": [
    "# Isolating Dependent and Independent Variables"
   ]
  },
  {
   "cell_type": "code",
   "execution_count": 5,
   "metadata": {},
   "outputs": [
    {
     "output_type": "execute_result",
     "data": {
      "text/plain": "((8523, 45), (8523,))"
     },
     "metadata": {},
     "execution_count": 5
    }
   ],
   "source": [
    "x = data.drop('Item_Outlet_Sales', axis = 1)\n",
    "y = data['Item_Outlet_Sales']\n",
    "x.shape, y.shape"
   ]
  },
  {
   "cell_type": "markdown",
   "metadata": {},
   "source": [
    "# Dividing data into train-test"
   ]
  },
  {
   "cell_type": "code",
   "execution_count": 6,
   "metadata": {},
   "outputs": [
    {
     "output_type": "execute_result",
     "data": {
      "text/plain": "((6392, 45), (2131, 45), (6392,), (2131,))"
     },
     "metadata": {},
     "execution_count": 6
    }
   ],
   "source": [
    "from sklearn.model_selection import train_test_split\n",
    "trainx, testx, trainy, testy = train_test_split(x, y, random_state = 101)\n",
    "trainx.shape, testx.shape, trainy.shape, testy.shape"
   ]
  },
  {
   "cell_type": "markdown",
   "metadata": {},
   "source": [
    "# Implementing Linear Regression"
   ]
  },
  {
   "cell_type": "code",
   "execution_count": 7,
   "metadata": {
    "tags": []
   },
   "outputs": [
    {
     "output_type": "stream",
     "name": "stdout",
     "text": "Prediction Score : 56.28\n"
    }
   ],
   "source": [
    "from sklearn.linear_model import LinearRegression\n",
    "lreg= LinearRegression()\n",
    "# Training Model\n",
    "lreg.fit(trainx, trainy)\n",
    "# Making Predictions\n",
    "pred1 = lreg.predict(testx)\n",
    "# Finding Score\n",
    "m1score = lreg.score(testx, testy)\n",
    "print(f'Prediction Score : {(m1score*100).round(2)}')"
   ]
  },
  {
   "cell_type": "markdown",
   "metadata": {},
   "source": [
    "# Implementing KNN"
   ]
  },
  {
   "cell_type": "code",
   "execution_count": 8,
   "metadata": {
    "tags": []
   },
   "outputs": [
    {
     "output_type": "stream",
     "name": "stdout",
     "text": "Prediction Score : 49.12\n"
    }
   ],
   "source": [
    "from sklearn.neighbors import KNeighborsRegressor\n",
    "knn = KNeighborsRegressor(n_neighbors=9)\n",
    "# Training Model\n",
    "knn.fit(trainx, trainy)\n",
    "# Making Predictions\n",
    "pred2 = knn.predict(testx)\n",
    "# Finding Score\n",
    "m2score = knn.score(testx, testy)\n",
    "print(f'Prediction Score : {(m2score*100).round(2)}')"
   ]
  },
  {
   "cell_type": "markdown",
   "metadata": {},
   "source": [
    "# Implementing Decision Tree Regressor"
   ]
  },
  {
   "cell_type": "code",
   "execution_count": 9,
   "metadata": {
    "tags": []
   },
   "outputs": [
    {
     "output_type": "stream",
     "name": "stdout",
     "text": "Prediction Score : 57.47\n"
    }
   ],
   "source": [
    "from sklearn.tree import DecisionTreeRegressor\n",
    "dtr= DecisionTreeRegressor(max_depth=7)\n",
    "# Training Model\n",
    "dtr.fit(trainx, trainy)\n",
    "# Making Predictions\n",
    "pred3 = dtr.predict(testx)\n",
    "# Finding Score\n",
    "m3score = dtr.score(testx, testy)\n",
    "print(f'Prediction Score : {(m3score*100).round(2)}')"
   ]
  },
  {
   "cell_type": "markdown",
   "metadata": {},
   "source": [
    "# Averaging"
   ]
  },
  {
   "cell_type": "code",
   "execution_count": 10,
   "metadata": {},
   "outputs": [],
   "source": [
    "from statistics import mean\n",
    "final_preds = np.array([])\n",
    "for i in range(len(testy)):\n",
    "    final_preds = np.append(final_preds, mean([pred1[i], pred2[i], pred3[i]]))"
   ]
  },
  {
   "cell_type": "code",
   "execution_count": 11,
   "metadata": {
    "tags": []
   },
   "outputs": [
    {
     "output_type": "stream",
     "name": "stdout",
     "text": "Prediction Score : 58.11\n"
    }
   ],
   "source": [
    "from sklearn.metrics import r2_score\n",
    "final_score = r2_score(testy, final_preds)\n",
    "print(f'Prediction Score : {(final_score*100).round(2)}')"
   ]
  },
  {
   "cell_type": "markdown",
   "metadata": {},
   "source": [
    "## Slight increase found\n",
    "### Individiul Scores: [56.28, 49.12, 57.47]\n",
    "### Final Score: 58.11"
   ]
  },
  {
   "cell_type": "markdown",
   "metadata": {},
   "source": [
    "# Weighted Averaging"
   ]
  },
  {
   "cell_type": "code",
   "execution_count": 12,
   "metadata": {},
   "outputs": [],
   "source": [
    "from statistics import mean\n",
    "final_preds = np.array([])\n",
    "for i in range(len(testy)):\n",
    "    final_preds = np.append(final_preds, mean([pred1[i], pred1[i], pred2[i], pred3[i], pred3[i]]))"
   ]
  },
  {
   "cell_type": "code",
   "execution_count": 13,
   "metadata": {
    "tags": []
   },
   "outputs": [
    {
     "output_type": "stream",
     "name": "stdout",
     "text": "Prediction Score : 58.69\n"
    }
   ],
   "source": [
    "from sklearn.metrics import r2_score\n",
    "final_score = r2_score(testy, final_preds)\n",
    "print(f'Prediction Score : {(final_score*100).round(2)}')"
   ]
  },
  {
   "cell_type": "markdown",
   "metadata": {},
   "source": [
    "## Slight increase found\n",
    "### Averaging Scores: 58.11\n",
    "### Weighted Averaging Score: 58.69"
   ]
  },
  {
   "cell_type": "markdown",
   "metadata": {},
   "source": [
    "# Ranked Averaging"
   ]
  },
  {
   "cell_type": "code",
   "execution_count": 16,
   "metadata": {},
   "outputs": [
    {
     "output_type": "execute_result",
     "data": {
      "text/plain": "     Scores\n0  0.562822\n1  0.491197\n2  0.574706",
      "text/html": "<div>\n<style scoped>\n    .dataframe tbody tr th:only-of-type {\n        vertical-align: middle;\n    }\n\n    .dataframe tbody tr th {\n        vertical-align: top;\n    }\n\n    .dataframe thead th {\n        text-align: right;\n    }\n</style>\n<table border=\"1\" class=\"dataframe\">\n  <thead>\n    <tr style=\"text-align: right;\">\n      <th></th>\n      <th>Scores</th>\n    </tr>\n  </thead>\n  <tbody>\n    <tr>\n      <th>0</th>\n      <td>0.562822</td>\n    </tr>\n    <tr>\n      <th>1</th>\n      <td>0.491197</td>\n    </tr>\n    <tr>\n      <th>2</th>\n      <td>0.574706</td>\n    </tr>\n  </tbody>\n</table>\n</div>"
     },
     "metadata": {},
     "execution_count": 16
    }
   ],
   "source": [
    "scores = [m1score , m2score, m3score]\n",
    "ranks = pd.DataFrame({'Scores' : scores}) \n",
    "ranks.head()"
   ]
  },
  {
   "cell_type": "code",
   "execution_count": 23,
   "metadata": {},
   "outputs": [
    {
     "output_type": "execute_result",
     "data": {
      "text/plain": "     Scores\n1  0.491197\n0  0.562822\n2  0.574706",
      "text/html": "<div>\n<style scoped>\n    .dataframe tbody tr th:only-of-type {\n        vertical-align: middle;\n    }\n\n    .dataframe tbody tr th {\n        vertical-align: top;\n    }\n\n    .dataframe thead th {\n        text-align: right;\n    }\n</style>\n<table border=\"1\" class=\"dataframe\">\n  <thead>\n    <tr style=\"text-align: right;\">\n      <th></th>\n      <th>Scores</th>\n    </tr>\n  </thead>\n  <tbody>\n    <tr>\n      <th>1</th>\n      <td>0.491197</td>\n    </tr>\n    <tr>\n      <th>0</th>\n      <td>0.562822</td>\n    </tr>\n    <tr>\n      <th>2</th>\n      <td>0.574706</td>\n    </tr>\n  </tbody>\n</table>\n</div>"
     },
     "metadata": {},
     "execution_count": 23
    }
   ],
   "source": [
    "ranks = ranks.sort_values('Scores')\n",
    "ranks.head()"
   ]
  },
  {
   "cell_type": "code",
   "execution_count": 26,
   "metadata": {},
   "outputs": [
    {
     "output_type": "execute_result",
     "data": {
      "text/plain": "     Scores  rank\n1  0.491197     1\n0  0.562822     2\n2  0.574706     3",
      "text/html": "<div>\n<style scoped>\n    .dataframe tbody tr th:only-of-type {\n        vertical-align: middle;\n    }\n\n    .dataframe tbody tr th {\n        vertical-align: top;\n    }\n\n    .dataframe thead th {\n        text-align: right;\n    }\n</style>\n<table border=\"1\" class=\"dataframe\">\n  <thead>\n    <tr style=\"text-align: right;\">\n      <th></th>\n      <th>Scores</th>\n      <th>rank</th>\n    </tr>\n  </thead>\n  <tbody>\n    <tr>\n      <th>1</th>\n      <td>0.491197</td>\n      <td>1</td>\n    </tr>\n    <tr>\n      <th>0</th>\n      <td>0.562822</td>\n      <td>2</td>\n    </tr>\n    <tr>\n      <th>2</th>\n      <td>0.574706</td>\n      <td>3</td>\n    </tr>\n  </tbody>\n</table>\n</div>"
     },
     "metadata": {},
     "execution_count": 26
    }
   ],
   "source": [
    "ranks['rank'] = [x for x in range(1,ranks.shape[0]+1) ]\n",
    "ranks.head()"
   ]
  },
  {
   "cell_type": "code",
   "execution_count": 27,
   "metadata": {},
   "outputs": [
    {
     "output_type": "execute_result",
     "data": {
      "text/plain": "     Scores  rank   weights\n1  0.491197     1  0.166667\n0  0.562822     2  0.333333\n2  0.574706     3  0.500000",
      "text/html": "<div>\n<style scoped>\n    .dataframe tbody tr th:only-of-type {\n        vertical-align: middle;\n    }\n\n    .dataframe tbody tr th {\n        vertical-align: top;\n    }\n\n    .dataframe thead th {\n        text-align: right;\n    }\n</style>\n<table border=\"1\" class=\"dataframe\">\n  <thead>\n    <tr style=\"text-align: right;\">\n      <th></th>\n      <th>Scores</th>\n      <th>rank</th>\n      <th>weights</th>\n    </tr>\n  </thead>\n  <tbody>\n    <tr>\n      <th>1</th>\n      <td>0.491197</td>\n      <td>1</td>\n      <td>0.166667</td>\n    </tr>\n    <tr>\n      <th>0</th>\n      <td>0.562822</td>\n      <td>2</td>\n      <td>0.333333</td>\n    </tr>\n    <tr>\n      <th>2</th>\n      <td>0.574706</td>\n      <td>3</td>\n      <td>0.500000</td>\n    </tr>\n  </tbody>\n</table>\n</div>"
     },
     "metadata": {},
     "execution_count": 27
    }
   ],
   "source": [
    "ranks['weights'] = ranks['rank']/ranks['rank'].sum()\n",
    "ranks.head()"
   ]
  },
  {
   "cell_type": "code",
   "execution_count": 44,
   "metadata": {},
   "outputs": [],
   "source": [
    "from statistics import mean\n",
    "final_preds = np.array([])\n",
    "for i in range(len(testy)):\n",
    "    final_preds = np.append(final_preds, np.sum([pred1[i]*ranks['weights'][0], pred2[i]*ranks['weights'][1], ranks['weights'][2]*pred3[i]]))"
   ]
  },
  {
   "cell_type": "code",
   "execution_count": 45,
   "metadata": {
    "tags": []
   },
   "outputs": [
    {
     "output_type": "stream",
     "name": "stdout",
     "text": "Prediction Score : 58.81\n"
    }
   ],
   "source": [
    "from sklearn.metrics import r2_score\n",
    "final_score = r2_score(testy, final_preds)\n",
    "print(f'Prediction Score : {(final_score*100).round(2)}')"
   ]
  },
  {
   "cell_type": "markdown",
   "metadata": {},
   "source": [
    "## Slight increase found\n",
    "### Averaging Scores: 58.11\n",
    "### Weighted Averaging Score: 58.69\n",
    "### Ranked Averaging Score: 58.81"
   ]
  },
  {
   "cell_type": "code",
   "execution_count": null,
   "metadata": {},
   "outputs": [],
   "source": []
  }
 ],
 "metadata": {
  "language_info": {
   "codemirror_mode": {
    "name": "ipython",
    "version": 3
   },
   "file_extension": ".py",
   "mimetype": "text/x-python",
   "name": "python",
   "nbconvert_exporter": "python",
   "pygments_lexer": "ipython3",
   "version": 3
  },
  "orig_nbformat": 2,
  "kernelspec": {
   "name": "python_defaultSpec_1593195011823",
   "display_name": "Python 3.7.6 64-bit ('base': conda)"
  }
 },
 "nbformat": 4,
 "nbformat_minor": 2
}